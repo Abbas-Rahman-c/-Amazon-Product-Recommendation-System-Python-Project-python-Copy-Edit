{
 "cells": [
  {
   "cell_type": "markdown",
   "id": "8715c473",
   "metadata": {},
   "source": [
    "# 📦 Amazon Recommendation System\n",
    "This notebook demonstrates loading data, exploring it, and building popularity-based and collaborative filtering models."
   ]
  },
  {
   "cell_type": "code",
   "execution_count": null,
   "id": "cd0d9d35",
   "metadata": {},
   "outputs": [],
   "source": [
    "# 📚 Import Libraries\n",
    "import numpy as np\n",
    "import pandas as pd\n",
    "import matplotlib.pyplot as plt\n",
    "import seaborn as sns\n",
    "from sklearn.metrics.pairwise import cosine_similarity\n",
    "from sklearn.model_selection import train_test_split\n",
    "from sklearn.neighbors import NearestNeighbors\n",
    "from sklearn.decomposition import TruncatedSVD\n",
    "from surprise import KNNWithMeans, Dataset, Reader, accuracy\n",
    "from surprise.model_selection import train_test_split as surprise_train_test_split\n",
    "import warnings; warnings.simplefilter('ignore')\n",
    "\n",
    "%matplotlib inline"
   ]
  },
  {
   "cell_type": "markdown",
   "id": "33f53a4d",
   "metadata": {},
   "source": [
    "## 📂 Load Dataset & Add Headers"
   ]
  },
  {
   "cell_type": "code",
   "execution_count": null,
   "id": "ddab256c",
   "metadata": {},
   "outputs": [],
   "source": [
    "electronics_data = pd.read_csv(\n",
    "    \"/kaggle/input/amazon-product-reviews/ratings_Electronics (1).csv\",\n",
    "    names=['userId', 'productId', 'Rating', 'timestamp']\n",
    ")\n",
    "electronics_data.head()"
   ]
  },
  {
   "cell_type": "markdown",
   "id": "cdd5bb08",
   "metadata": {},
   "source": [
    "## 📏 Dataset Overview"
   ]
  },
  {
   "cell_type": "code",
   "execution_count": null,
   "id": "a89b8588",
   "metadata": {},
   "outputs": [],
   "source": [
    "print(\"Shape of data:\", electronics_data.shape)\n",
    "print(\"\\nData Types:\\n\", electronics_data.dtypes)\n",
    "electronics_data.info()\n",
    "print(\"\\nRating Summary:\\n\", electronics_data.describe()['Rating'].T)\n",
    "print('Minimum rating:', electronics_data.Rating.min())\n",
    "print('Maximum rating:', electronics_data.Rating.max())"
   ]
  },
  {
   "cell_type": "markdown",
   "id": "6405a95d",
   "metadata": {},
   "source": [
    "## 🧹 Handling Missing Values"
   ]
  },
  {
   "cell_type": "code",
   "execution_count": null,
   "id": "554dce99",
   "metadata": {},
   "outputs": [],
   "source": [
    "print('\\nMissing values per column:\\n', electronics_data.isnull().sum())"
   ]
  },
  {
   "cell_type": "markdown",
   "id": "d6439864",
   "metadata": {},
   "source": [
    "## 📊 Rating Distribution"
   ]
  },
  {
   "cell_type": "code",
   "execution_count": null,
   "id": "9b8b7da8",
   "metadata": {},
   "outputs": [],
   "source": [
    "sns.countplot(x=\"Rating\", data=electronics_data)\n",
    "plt.title(\"Distribution of Ratings\")\n",
    "plt.show()"
   ]
  },
  {
   "cell_type": "markdown",
   "id": "b8bcd910",
   "metadata": {},
   "source": [
    "## 👤 Unique Users & Products"
   ]
  },
  {
   "cell_type": "code",
   "execution_count": null,
   "id": "543d64ab",
   "metadata": {},
   "outputs": [],
   "source": [
    "print(\"\\nTotal no of ratings :\", electronics_data.shape[0])\n",
    "print(\"Total no of Users   :\", electronics_data['userId'].nunique())\n",
    "print(\"Total no of products:\", electronics_data['productId'].nunique())"
   ]
  },
  {
   "cell_type": "markdown",
   "id": "a31c0665",
   "metadata": {},
   "source": [
    "## 🕒 Drop Timestamp Column"
   ]
  },
  {
   "cell_type": "code",
   "execution_count": null,
   "id": "1fe2a5c4",
   "metadata": {},
   "outputs": [],
   "source": [
    "electronics_data.drop(['timestamp'], axis=1, inplace=True)"
   ]
  },
  {
   "cell_type": "markdown",
   "id": "bc60a907",
   "metadata": {},
   "source": [
    "## 📈 Analyze Ratings per User"
   ]
  },
  {
   "cell_type": "code",
   "execution_count": null,
   "id": "efa8b63a",
   "metadata": {},
   "outputs": [],
   "source": [
    "no_of_rated_products_per_user = electronics_data.groupby('userId')['Rating'].count().sort_values(ascending=False)\n",
    "print(\"\\nTop users by no. of ratings:\\n\", no_of_rated_products_per_user.head())\n",
    "print(\"\\nDescribe:\\n\", no_of_rated_products_per_user.describe())\n",
    "\n",
    "quantiles = no_of_rated_products_per_user.quantile(np.arange(0,1.01,0.01), interpolation='higher')\n",
    "plt.figure(figsize=(10,6))\n",
    "plt.title(\"Quantiles of No. of Ratings per User\")\n",
    "quantiles.plot()\n",
    "plt.ylabel('No of ratings')\n",
    "plt.xlabel('Quantile')\n",
    "plt.show()\n",
    "\n",
    "print('\\nNumber of users with more than 50 ratings:', sum(no_of_rated_products_per_user >= 50))"
   ]
  },
  {
   "cell_type": "markdown",
   "id": "36d66d60",
   "metadata": {},
   "source": [
    "## ⭐ Popularity Based Recommendation"
   ]
  },
  {
   "cell_type": "code",
   "execution_count": null,
   "id": "8b5821b8",
   "metadata": {},
   "outputs": [],
   "source": [
    "new_df = electronics_data.groupby(\"productId\").filter(lambda x: x['Rating'].count() >=50)\n",
    "\n",
    "no_of_ratings_per_product = new_df.groupby('productId')['Rating'].count().sort_values(ascending=False)\n",
    "plt.figure(figsize=(12,5))\n",
    "plt.plot(no_of_ratings_per_product.values)\n",
    "plt.title('# Ratings per Product')\n",
    "plt.xlabel('Products')\n",
    "plt.ylabel('No of Ratings')\n",
    "plt.show()\n",
    "\n",
    "print(\"\\nAverage rating per product:\\n\", new_df.groupby('productId')['Rating'].mean().head())\n",
    "\n",
    "popular_products = pd.DataFrame(new_df.groupby('productId')['Rating'].count())\n",
    "most_popular = popular_products.sort_values('Rating', ascending=False)\n",
    "most_popular.head(30).plot(kind=\"bar\", figsize=(12,5), title=\"Top 30 Most Rated Products\")\n",
    "plt.show()"
   ]
  },
  {
   "cell_type": "markdown",
   "id": "f96be460",
   "metadata": {},
   "source": [
    "## 🔍 Collaborative Filtering (Item-Item)"
   ]
  },
  {
   "cell_type": "code",
   "execution_count": null,
   "id": "31173b89",
   "metadata": {},
   "outputs": [],
   "source": [
    "reader = Reader(rating_scale=(1, 5))\n",
    "data = Dataset.load_from_df(new_df[['userId','productId','Rating']], reader)\n",
    "trainset, testset = surprise_train_test_split(data, test_size=0.3, random_state=10)\n",
    "\n",
    "algo = KNNWithMeans(k=5, sim_options={'name': 'pearson_baseline', 'user_based': False})\n",
    "algo.fit(trainset)\n",
    "\n",
    "test_pred = algo.test(testset)\n",
    "print(\"\\nItem-based CF Model: Test Set RMSE\")\n",
    "accuracy.rmse(test_pred, verbose=True)"
   ]
  },
  {
   "cell_type": "markdown",
   "id": "c80738a0",
   "metadata": {},
   "source": [
    "## 🧠 Model-Based Collaborative Filtering (SVD)"
   ]
  },
  {
   "cell_type": "code",
   "execution_count": null,
   "id": "86d2cfea",
   "metadata": {},
   "outputs": [],
   "source": [
    "new_df1 = new_df.head(10000)\n",
    "ratings_matrix = new_df1.pivot_table(values='Rating', index='userId', columns='productId', fill_value=0)\n",
    "print(\"\\nUtility matrix shape:\", ratings_matrix.shape)\n",
    "\n",
    "X = ratings_matrix.T\n",
    "SVD = TruncatedSVD(n_components=10)\n",
    "decomposed_matrix = SVD.fit_transform(X)\n",
    "\n",
    "correlation_matrix = np.corrcoef(decomposed_matrix)\n",
    "\n",
    "product_id = 'B00000K135'\n",
    "product_idx = list(X.index).index(product_id)\n",
    "corr_product = correlation_matrix[product_idx]\n",
    "recommend = list(X.index[corr_product > 0.65])\n",
    "\n",
    "if product_id in recommend:\n",
    "    recommend.remove(product_id)\n",
    "\n",
    "print(\"\\nTop Recommended Products:\\n\", recommend[:24])"
   ]
  },
  {
   "cell_type": "markdown",
   "id": "44ba1923",
   "metadata": {},
   "source": [
    "## ✅ Done!"
   ]
  },
  {
   "cell_type": "code",
   "execution_count": null,
   "id": "11136e14",
   "metadata": {},
   "outputs": [],
   "source": [
    "print(\"\\nProject finished! 🎉\")"
   ]
  }
 ],
 "metadata": {},
 "nbformat": 4,
 "nbformat_minor": 5
}
